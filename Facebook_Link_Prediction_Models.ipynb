{
 "cells": [
  {
   "cell_type": "markdown",
   "metadata": {
    "colab_type": "text",
    "id": "naWvqMEMHglO"
   },
   "source": [
    "<p style=\"font-size:32px;text-align:center\"> <b>Social network Graph Link Prediction - Facebook Challenge</b> </p>"
   ]
  },
  {
   "cell_type": "code",
   "execution_count": 1,
   "metadata": {
    "colab": {},
    "colab_type": "code",
    "id": "9wb9N5RzHglP"
   },
   "outputs": [],
   "source": [
    "#Importing Libraries\n",
    "# please do go through this python notebook: \n",
    "import warnings\n",
    "warnings.filterwarnings(\"ignore\")\n",
    "\n",
    "import csv\n",
    "import pandas as pd#pandas to create small dataframes \n",
    "import datetime #Convert to unix time\n",
    "import time #Convert to unix time\n",
    "# if numpy is not installed already : pip3 install numpy\n",
    "import numpy as np#Do aritmetic operations on arrays\n",
    "# matplotlib: used to plot graphs\n",
    "import matplotlib\n",
    "import matplotlib.pylab as plt\n",
    "import seaborn as sns#Plots\n",
    "from matplotlib import rcParams#Size of plots  \n",
    "from sklearn.cluster import MiniBatchKMeans, KMeans#Clustering\n",
    "import math\n",
    "import pickle\n",
    "import os\n",
    "# to install xgboost: pip3 install xgboost\n",
    "import xgboost as xgb\n",
    "\n",
    "import warnings\n",
    "import networkx as nx\n",
    "import pdb\n",
    "import pickle\n",
    "from pandas import HDFStore,DataFrame\n",
    "from pandas import read_hdf\n",
    "from scipy.sparse.linalg import svds, eigs\n",
    "import gc\n",
    "from tqdm import tqdm\n",
    "from sklearn.ensemble import RandomForestClassifier\n",
    "from sklearn.metrics import f1_score"
   ]
  },
  {
   "cell_type": "code",
   "execution_count": 2,
   "metadata": {
    "colab": {},
    "colab_type": "code",
    "id": "XC4OJFKkHglU"
   },
   "outputs": [],
   "source": [
    "#reading\n",
    "from pandas import read_hdf\n",
    "df_final_train = read_hdf('data/fea_sample/storage_sample_stage4.h5', 'train_df',mode='r')\n",
    "df_final_test = read_hdf('data/fea_sample/storage_sample_stage4.h5', 'test_df',mode='r')"
   ]
  },
  {
   "cell_type": "code",
   "execution_count": 3,
   "metadata": {
    "colab": {},
    "colab_type": "code",
    "id": "5Gm-BHRkHglW",
    "outputId": "d2c2294c-113e-4fdb-d3e5-dc167dcf5fbc"
   },
   "outputs": [
    {
     "data": {
      "text/plain": [
       "Index(['source_node', 'destination_node', 'indicator_link',\n",
       "       'jaccard_followers', 'jaccard_followees', 'cosine_followers',\n",
       "       'cosine_followees', 'num_followers_s', 'num_followees_s',\n",
       "       'num_followees_d', 'inter_followers', 'inter_followees', 'adar_index',\n",
       "       'follows_back', 'same_comp', 'shortest_path', 'weight_in', 'weight_out',\n",
       "       'weight_f1', 'weight_f2', 'weight_f3', 'weight_f4', 'page_rank_s',\n",
       "       'page_rank_d', 'katz_s', 'katz_d', 'hubs_s', 'hubs_d', 'authorities_s',\n",
       "       'authorities_d', 'svd_u_s_1', 'svd_u_s_2', 'svd_u_s_3', 'svd_u_s_4',\n",
       "       'svd_u_s_5', 'svd_u_s_6', 'svd_u_d_1', 'svd_u_d_2', 'svd_u_d_3',\n",
       "       'svd_u_d_4', 'svd_u_d_5', 'svd_u_d_6', 'svd_v_s_1', 'svd_v_s_2',\n",
       "       'svd_v_s_3', 'svd_v_s_4', 'svd_v_s_5', 'svd_v_s_6', 'svd_v_d_1',\n",
       "       'svd_v_d_2', 'svd_v_d_3', 'svd_v_d_4', 'svd_v_d_5', 'svd_v_d_6'],\n",
       "      dtype='object')"
      ]
     },
     "execution_count": 3,
     "metadata": {},
     "output_type": "execute_result"
    }
   ],
   "source": [
    "df_final_train.columns"
   ]
  },
  {
   "cell_type": "markdown",
   "metadata": {},
   "source": [
    "## 1. Adding Preferential Attachment Feature"
   ]
  },
  {
   "cell_type": "markdown",
   "metadata": {},
   "source": [
    "We estimate how ”rich” our two vertices are by calculating the multiplication between the number of friends (|Γ(x)|) or followers each vertex has. It may be noted that the similarity index does not require any node neighbor information; therefore, this similarity index has the lowest computational complexity."
   ]
  },
  {
   "cell_type": "code",
   "execution_count": 4,
   "metadata": {},
   "outputs": [],
   "source": [
    "train_graph=nx.read_edgelist('./data/after_eda/train_pos_after_eda.csv',delimiter=',',create_using=nx.DiGraph(),nodetype=int)"
   ]
  },
  {
   "cell_type": "code",
   "execution_count": 5,
   "metadata": {},
   "outputs": [],
   "source": [
    "# df_final_train.drop([50057], inplace=True) 484879"
   ]
  },
  {
   "cell_type": "code",
   "execution_count": 6,
   "metadata": {},
   "outputs": [],
   "source": [
    "def preferentialAttachment(a,b):\n",
    "    # The nodes in nbunch are checked for membership in the graph and if not then we will return 0.\n",
    "    try:\n",
    "        return train_graph.in_degree(a)*train_graph.in_degree(b)\n",
    "    \n",
    "    except nx.NetworkXError:\n",
    "        return 0"
   ]
  },
  {
   "cell_type": "code",
   "execution_count": 7,
   "metadata": {},
   "outputs": [],
   "source": [
    "#mapping preferential attachment on train\n",
    "df_final_train['Pref_Attach'] = df_final_train.apply(lambda row: preferentialAttachment(row['source_node'],row['destination_node']),axis=1)\n",
    "#mapping preferential attachment on test\n",
    "df_final_test['Pref_Attach'] = df_final_test.apply(lambda row: preferentialAttachment(row['source_node'],row['destination_node']),axis=1)\n"
   ]
  },
  {
   "cell_type": "markdown",
   "metadata": {},
   "source": [
    "## 2. Adding svd_dot Feature"
   ]
  },
  {
   "cell_type": "code",
   "execution_count": 8,
   "metadata": {
    "colab": {},
    "colab_type": "code",
    "id": "WQO6E65eVFIc"
   },
   "outputs": [],
   "source": [
    "def svd(x,S):\n",
    "    try:\n",
    "        z = sadj_dict[x]\n",
    "        return S[z]\n",
    "    except:\n",
    "        return [0,0,0,0,0,0]"
   ]
  },
  {
   "cell_type": "code",
   "execution_count": 9,
   "metadata": {},
   "outputs": [],
   "source": [
    "def valueMultiplication(a,b):\n",
    "    return np.dot(a,b)"
   ]
  },
  {
   "cell_type": "code",
   "execution_count": 10,
   "metadata": {
    "colab": {},
    "colab_type": "code",
    "id": "9sOyLwvNVFId"
   },
   "outputs": [],
   "source": [
    "#for svd features to get feature vector creating a dict node val and inedx in svd vector\n",
    "sadj_col = sorted(train_graph.nodes())\n",
    "sadj_dict = { val:idx for idx,val in enumerate(sadj_col)}"
   ]
  },
  {
   "cell_type": "code",
   "execution_count": 11,
   "metadata": {
    "colab": {},
    "colab_type": "code",
    "id": "zLSt8fGVVFIg"
   },
   "outputs": [],
   "source": [
    "Adj = nx.adjacency_matrix(train_graph,nodelist=sorted(train_graph.nodes())).asfptype()"
   ]
  },
  {
   "cell_type": "code",
   "execution_count": 12,
   "metadata": {
    "colab": {},
    "colab_type": "code",
    "id": "soq-VAHlVFIh",
    "outputId": "3f9bfb32-004f-4698-e415-469243250130"
   },
   "outputs": [
    {
     "name": "stdout",
     "output_type": "stream",
     "text": [
      "Adjacency matrix Shape (1780722, 1780722)\n",
      "U Shape (1780722, 6)\n",
      "V Shape (6, 1780722)\n",
      "s Shape (6,)\n"
     ]
    }
   ],
   "source": [
    "U, s, V = svds(Adj, k = 6)\n",
    "print('Adjacency matrix Shape',Adj.shape)\n",
    "print('U Shape',U.shape)\n",
    "print('V Shape',V.shape)\n",
    "print('s Shape',s.shape)"
   ]
  },
  {
   "cell_type": "code",
   "execution_count": 13,
   "metadata": {},
   "outputs": [
    {
     "data": {
      "text/plain": [
       "-5.653992945881712e-32"
      ]
     },
     "execution_count": 13,
     "metadata": {},
     "output_type": "execute_result"
    }
   ],
   "source": [
    "valueMultiplication(svd(1,U),svd(5,U))"
   ]
  },
  {
   "cell_type": "code",
   "execution_count": 14,
   "metadata": {},
   "outputs": [],
   "source": [
    "#mapping SVD Dot on train\n",
    "df_final_train['svd_dot_u'] = df_final_train.apply(lambda row: valueMultiplication(svd(row['source_node'],U),svd(row['destination_node'],U)),axis=1)\n",
    "#mapping SVD Dot on test\n",
    "df_final_test['svd_dot_u'] = df_final_test.apply(lambda row: valueMultiplication(svd(row['source_node'],U),svd(row['destination_node'],U)),axis=1)\n"
   ]
  },
  {
   "cell_type": "code",
   "execution_count": 15,
   "metadata": {},
   "outputs": [],
   "source": [
    "#mapping SVD Dot on train\n",
    "df_final_train['svd_dot_v'] = df_final_train.apply(lambda row: valueMultiplication(svd(row['source_node'],V.T),svd(row['destination_node'],V.T)),axis=1)\n",
    "#mapping SVD Dot on test\n",
    "df_final_test['svd_dot_v'] = df_final_test.apply(lambda row: valueMultiplication(svd(row['source_node'],V.T),svd(row['destination_node'],V.T)),axis=1)\n"
   ]
  },
  {
   "cell_type": "code",
   "execution_count": 18,
   "metadata": {
    "colab": {},
    "colab_type": "code",
    "id": "XRW7VZ4AHglc"
   },
   "outputs": [],
   "source": [
    "y_train = df_final_train.indicator_link\n",
    "y_test = df_final_test.indicator_link"
   ]
  },
  {
   "cell_type": "code",
   "execution_count": 26,
   "metadata": {
    "colab": {},
    "colab_type": "code",
    "id": "4lj9M_qtHglf"
   },
   "outputs": [],
   "source": [
    "df_final_train.drop(['source_node', 'destination_node','indicator_link'],axis=1,inplace=True)\n",
    "df_final_test.drop(['source_node', 'destination_node','indicator_link'],axis=1,inplace=True)"
   ]
  },
  {
   "cell_type": "markdown",
   "metadata": {},
   "source": [
    "## 3. Applying XGBoost "
   ]
  },
  {
   "cell_type": "code",
   "execution_count": 40,
   "metadata": {},
   "outputs": [],
   "source": [
    "# Save to file in the current working directory\n",
    "def saveModel(fileName,model):  \n",
    "    with open(fileName, 'wb') as file:  \n",
    "        pickle.dump(model, file)"
   ]
  },
  {
   "cell_type": "code",
   "execution_count": 41,
   "metadata": {},
   "outputs": [],
   "source": [
    "# Load from file\n",
    "def getModel(pkl_filename):\n",
    "    with open(pkl_filename, 'rb') as file:  \n",
    "        pickle_model = pickle.load(file)\n",
    "    return pickle_model"
   ]
  },
  {
   "cell_type": "code",
   "execution_count": 43,
   "metadata": {
    "scrolled": true
   },
   "outputs": [
    {
     "name": "stdout",
     "output_type": "stream",
     "text": [
      "Fitting 5 folds for each of 63 candidates, totalling 315 fits\n",
      "[CV] max_depth=1, n_estimators=1 .....................................\n"
     ]
    },
    {
     "name": "stderr",
     "output_type": "stream",
     "text": [
      "[Parallel(n_jobs=1)]: Using backend SequentialBackend with 1 concurrent workers.\n"
     ]
    },
    {
     "name": "stdout",
     "output_type": "stream",
     "text": [
      "[CV]  max_depth=1, n_estimators=1, score=0.7138635487601181, total=   0.8s\n",
      "[CV] max_depth=1, n_estimators=1 .....................................\n"
     ]
    },
    {
     "name": "stderr",
     "output_type": "stream",
     "text": [
      "[Parallel(n_jobs=1)]: Done   1 out of   1 | elapsed:    1.0s remaining:    0.0s\n"
     ]
    },
    {
     "name": "stdout",
     "output_type": "stream",
     "text": [
      "[CV]  max_depth=1, n_estimators=1, score=0.7192118226600985, total=   0.8s\n",
      "[CV] max_depth=1, n_estimators=1 .....................................\n"
     ]
    },
    {
     "name": "stderr",
     "output_type": "stream",
     "text": [
      "[Parallel(n_jobs=1)]: Done   2 out of   2 | elapsed:    2.0s remaining:    0.0s\n"
     ]
    },
    {
     "name": "stdout",
     "output_type": "stream",
     "text": [
      "[CV]  max_depth=1, n_estimators=1, score=0.7129540340726455, total=   0.8s\n",
      "[CV] max_depth=1, n_estimators=1 .....................................\n"
     ]
    },
    {
     "name": "stderr",
     "output_type": "stream",
     "text": [
      "[Parallel(n_jobs=1)]: Done   3 out of   3 | elapsed:    3.0s remaining:    0.0s\n"
     ]
    },
    {
     "name": "stdout",
     "output_type": "stream",
     "text": [
      "[CV]  max_depth=1, n_estimators=1, score=0.7088868824970979, total=   0.8s\n",
      "[CV] max_depth=1, n_estimators=1 .....................................\n"
     ]
    },
    {
     "name": "stderr",
     "output_type": "stream",
     "text": [
      "[Parallel(n_jobs=1)]: Done   4 out of   4 | elapsed:    4.0s remaining:    0.0s\n"
     ]
    },
    {
     "name": "stdout",
     "output_type": "stream",
     "text": [
      "[CV]  max_depth=1, n_estimators=1, score=0.7154315046519089, total=   0.8s\n",
      "[CV] max_depth=1, n_estimators=2 .....................................\n"
     ]
    },
    {
     "name": "stderr",
     "output_type": "stream",
     "text": [
      "[Parallel(n_jobs=1)]: Done   5 out of   5 | elapsed:    4.9s remaining:    0.0s\n"
     ]
    },
    {
     "name": "stdout",
     "output_type": "stream",
     "text": [
      "[CV]  max_depth=1, n_estimators=2, score=0.8707924001396299, total=   0.9s\n",
      "[CV] max_depth=1, n_estimators=2 .....................................\n"
     ]
    },
    {
     "name": "stderr",
     "output_type": "stream",
     "text": [
      "[Parallel(n_jobs=1)]: Done   6 out of   6 | elapsed:    5.9s remaining:    0.0s\n"
     ]
    },
    {
     "name": "stdout",
     "output_type": "stream",
     "text": [
      "[CV]  max_depth=1, n_estimators=2, score=0.869884832148983, total=   0.9s\n",
      "[CV] max_depth=1, n_estimators=2 .....................................\n"
     ]
    },
    {
     "name": "stderr",
     "output_type": "stream",
     "text": [
      "[Parallel(n_jobs=1)]: Done   7 out of   7 | elapsed:    7.0s remaining:    0.0s\n"
     ]
    },
    {
     "name": "stdout",
     "output_type": "stream",
     "text": [
      "[CV]  max_depth=1, n_estimators=2, score=0.8679931220830264, total=   0.9s\n",
      "[CV] max_depth=1, n_estimators=2 .....................................\n"
     ]
    },
    {
     "name": "stderr",
     "output_type": "stream",
     "text": [
      "[Parallel(n_jobs=1)]: Done   8 out of   8 | elapsed:    8.0s remaining:    0.0s\n"
     ]
    },
    {
     "name": "stdout",
     "output_type": "stream",
     "text": [
      "[CV]  max_depth=1, n_estimators=2, score=0.8652587013242751, total=   0.8s\n",
      "[CV] max_depth=1, n_estimators=2 .....................................\n"
     ]
    },
    {
     "name": "stderr",
     "output_type": "stream",
     "text": [
      "[Parallel(n_jobs=1)]: Done   9 out of   9 | elapsed:    9.1s remaining:    0.0s\n"
     ]
    },
    {
     "name": "stdout",
     "output_type": "stream",
     "text": [
      "[CV]  max_depth=1, n_estimators=2, score=0.8661200844420442, total=   0.9s\n",
      "[CV] max_depth=1, n_estimators=4 .....................................\n",
      "[CV]  max_depth=1, n_estimators=4, score=0.8485650198424111, total=   1.1s\n",
      "[CV] max_depth=1, n_estimators=4 .....................................\n",
      "[CV]  max_depth=1, n_estimators=4, score=0.8567186340014847, total=   1.1s\n",
      "[CV] max_depth=1, n_estimators=4 .....................................\n",
      "[CV]  max_depth=1, n_estimators=4, score=0.8498879761015683, total=   1.0s\n",
      "[CV] max_depth=1, n_estimators=4 .....................................\n",
      "[CV]  max_depth=1, n_estimators=4, score=0.851010101010101, total=   1.1s\n",
      "[CV] max_depth=1, n_estimators=4 .....................................\n",
      "[CV]  max_depth=1, n_estimators=4, score=0.8550185873605948, total=   1.0s\n",
      "[CV] max_depth=1, n_estimators=8 .....................................\n",
      "[CV]  max_depth=1, n_estimators=8, score=0.8517350157728707, total=   1.4s\n",
      "[CV] max_depth=1, n_estimators=8 .....................................\n",
      "[CV]  max_depth=1, n_estimators=8, score=0.8567186340014847, total=   1.4s\n",
      "[CV] max_depth=1, n_estimators=8 .....................................\n",
      "[CV]  max_depth=1, n_estimators=8, score=0.8498879761015683, total=   1.4s\n",
      "[CV] max_depth=1, n_estimators=8 .....................................\n",
      "[CV]  max_depth=1, n_estimators=8, score=0.851010101010101, total=   1.3s\n",
      "[CV] max_depth=1, n_estimators=8 .....................................\n",
      "[CV]  max_depth=1, n_estimators=8, score=0.8550185873605948, total=   1.4s\n",
      "[CV] max_depth=1, n_estimators=16 ....................................\n",
      "[CV]  max_depth=1, n_estimators=16, score=0.8727477477477478, total=   2.1s\n",
      "[CV] max_depth=1, n_estimators=16 ....................................\n",
      "[CV]  max_depth=1, n_estimators=16, score=0.8796866256295467, total=   2.1s\n",
      "[CV] max_depth=1, n_estimators=16 ....................................\n",
      "[CV]  max_depth=1, n_estimators=16, score=0.8720491295284242, total=   2.1s\n",
      "[CV] max_depth=1, n_estimators=16 ....................................\n",
      "[CV]  max_depth=1, n_estimators=16, score=0.8739524157714157, total=   2.1s\n",
      "[CV] max_depth=1, n_estimators=16 ....................................\n",
      "[CV]  max_depth=1, n_estimators=16, score=0.8747751798561152, total=   2.1s\n",
      "[CV] max_depth=1, n_estimators=32 ....................................\n",
      "[CV]  max_depth=1, n_estimators=32, score=0.8791221096243211, total=   3.5s\n",
      "[CV] max_depth=1, n_estimators=32 ....................................\n",
      "[CV]  max_depth=1, n_estimators=32, score=0.9163613191014816, total=   3.4s\n",
      "[CV] max_depth=1, n_estimators=32 ....................................\n",
      "[CV]  max_depth=1, n_estimators=32, score=0.9116532322639193, total=   3.5s\n",
      "[CV] max_depth=1, n_estimators=32 ....................................\n",
      "[CV]  max_depth=1, n_estimators=32, score=0.9141029058917622, total=   3.4s\n",
      "[CV] max_depth=1, n_estimators=32 ....................................\n",
      "[CV]  max_depth=1, n_estimators=32, score=0.9130411573159665, total=   3.4s\n",
      "[CV] max_depth=1, n_estimators=64 ....................................\n",
      "[CV]  max_depth=1, n_estimators=64, score=0.9236092906202485, total=   6.4s\n",
      "[CV] max_depth=1, n_estimators=64 ....................................\n",
      "[CV]  max_depth=1, n_estimators=64, score=0.9258910839343576, total=   6.4s\n",
      "[CV] max_depth=1, n_estimators=64 ....................................\n",
      "[CV]  max_depth=1, n_estimators=64, score=0.925018326526338, total=   6.3s\n",
      "[CV] max_depth=1, n_estimators=64 ....................................\n",
      "[CV]  max_depth=1, n_estimators=64, score=0.9264105516591646, total=   6.3s\n",
      "[CV] max_depth=1, n_estimators=64 ....................................\n",
      "[CV]  max_depth=1, n_estimators=64, score=0.9237696335078535, total=   6.3s\n",
      "[CV] max_depth=1, n_estimators=100 ...................................\n",
      "[CV]  max_depth=1, n_estimators=100, score=0.9274286311826833, total=   9.6s\n",
      "[CV] max_depth=1, n_estimators=100 ...................................\n",
      "[CV]  max_depth=1, n_estimators=100, score=0.9272698793922622, total=   9.6s\n",
      "[CV] max_depth=1, n_estimators=100 ...................................\n",
      "[CV]  max_depth=1, n_estimators=100, score=0.9270593167050933, total=   9.5s\n",
      "[CV] max_depth=1, n_estimators=100 ...................................\n",
      "[CV]  max_depth=1, n_estimators=100, score=0.9275528858709845, total=   9.5s\n",
      "[CV] max_depth=1, n_estimators=100 ...................................\n",
      "[CV]  max_depth=1, n_estimators=100, score=0.9248415649714554, total=   9.4s\n",
      "[CV] max_depth=1, n_estimators=200 ...................................\n",
      "[CV]  max_depth=1, n_estimators=200, score=0.957221430026482, total=  18.7s\n",
      "[CV] max_depth=1, n_estimators=200 ...................................\n",
      "[CV]  max_depth=1, n_estimators=200, score=0.957829488873082, total=  18.7s\n",
      "[CV] max_depth=1, n_estimators=200 ...................................\n",
      "[CV]  max_depth=1, n_estimators=200, score=0.956729790266748, total=  18.5s\n",
      "[CV] max_depth=1, n_estimators=200 ...................................\n",
      "[CV]  max_depth=1, n_estimators=200, score=0.9556630185797913, total=  18.4s\n",
      "[CV] max_depth=1, n_estimators=200 ...................................\n",
      "[CV]  max_depth=1, n_estimators=200, score=0.9545894704653177, total=  18.4s\n",
      "[CV] max_depth=5, n_estimators=1 .....................................\n",
      "[CV]  max_depth=5, n_estimators=1, score=0.9243993593166044, total=   1.1s\n",
      "[CV] max_depth=5, n_estimators=1 .....................................\n",
      "[CV]  max_depth=5, n_estimators=1, score=0.92817973699622, total=   1.1s\n",
      "[CV] max_depth=5, n_estimators=1 .....................................\n",
      "[CV]  max_depth=5, n_estimators=1, score=0.9265927977839334, total=   1.1s\n",
      "[CV] max_depth=5, n_estimators=1 .....................................\n",
      "[CV]  max_depth=5, n_estimators=1, score=0.9269749826638928, total=   1.0s\n",
      "[CV] max_depth=5, n_estimators=1 .....................................\n",
      "[CV]  max_depth=5, n_estimators=1, score=0.9238491936345189, total=   1.1s\n",
      "[CV] max_depth=5, n_estimators=2 .....................................\n",
      "[CV]  max_depth=5, n_estimators=2, score=0.9243993593166044, total=   1.4s\n",
      "[CV] max_depth=5, n_estimators=2 .....................................\n",
      "[CV]  max_depth=5, n_estimators=2, score=0.92817973699622, total=   1.4s\n",
      "[CV] max_depth=5, n_estimators=2 .....................................\n",
      "[CV]  max_depth=5, n_estimators=2, score=0.9265927977839334, total=   1.4s\n",
      "[CV] max_depth=5, n_estimators=2 .....................................\n",
      "[CV]  max_depth=5, n_estimators=2, score=0.9269749826638928, total=   1.4s\n",
      "[CV] max_depth=5, n_estimators=2 .....................................\n",
      "[CV]  max_depth=5, n_estimators=2, score=0.9238491936345189, total=   1.3s\n",
      "[CV] max_depth=5, n_estimators=4 .....................................\n",
      "[CV]  max_depth=5, n_estimators=4, score=0.9243993593166044, total=   2.0s\n",
      "[CV] max_depth=5, n_estimators=4 .....................................\n",
      "[CV]  max_depth=5, n_estimators=4, score=0.92817973699622, total=   2.0s\n",
      "[CV] max_depth=5, n_estimators=4 .....................................\n",
      "[CV]  max_depth=5, n_estimators=4, score=0.9430638565586662, total=   2.0s\n",
      "[CV] max_depth=5, n_estimators=4 .....................................\n",
      "[CV]  max_depth=5, n_estimators=4, score=0.9424973767051417, total=   2.0s\n",
      "[CV] max_depth=5, n_estimators=4 .....................................\n",
      "[CV]  max_depth=5, n_estimators=4, score=0.9243823042851806, total=   2.0s\n",
      "[CV] max_depth=5, n_estimators=8 .....................................\n",
      "[CV]  max_depth=5, n_estimators=8, score=0.9417063574238974, total=   3.5s\n",
      "[CV] max_depth=5, n_estimators=8 .....................................\n",
      "[CV]  max_depth=5, n_estimators=8, score=0.9448999843317492, total=   3.4s\n",
      "[CV] max_depth=5, n_estimators=8 .....................................\n",
      "[CV]  max_depth=5, n_estimators=8, score=0.9453193576702639, total=   3.4s\n",
      "[CV] max_depth=5, n_estimators=8 .....................................\n",
      "[CV]  max_depth=5, n_estimators=8, score=0.944361212997882, total=   3.5s\n",
      "[CV] max_depth=5, n_estimators=8 .....................................\n",
      "[CV]  max_depth=5, n_estimators=8, score=0.9424445374633738, total=   3.4s\n",
      "[CV] max_depth=5, n_estimators=16 ....................................\n",
      "[CV]  max_depth=5, n_estimators=16, score=0.952150896849463, total=   6.6s\n",
      "[CV] max_depth=5, n_estimators=16 ....................................\n",
      "[CV]  max_depth=5, n_estimators=16, score=0.9528263103802672, total=   6.3s\n",
      "[CV] max_depth=5, n_estimators=16 ....................................\n",
      "[CV]  max_depth=5, n_estimators=16, score=0.9529696595065164, total=   6.4s\n",
      "[CV] max_depth=5, n_estimators=16 ....................................\n",
      "[CV]  max_depth=5, n_estimators=16, score=0.9542322328499434, total=   6.4s\n",
      "[CV] max_depth=5, n_estimators=16 ....................................\n",
      "[CV]  max_depth=5, n_estimators=16, score=0.9524103831891223, total=   6.3s\n",
      "[CV] max_depth=5, n_estimators=32 ....................................\n",
      "[CV]  max_depth=5, n_estimators=32, score=0.9652552674230146, total=  12.1s\n",
      "[CV] max_depth=5, n_estimators=32 ....................................\n",
      "[CV]  max_depth=5, n_estimators=32, score=0.9690805121198319, total=  12.4s\n",
      "[CV] max_depth=5, n_estimators=32 ....................................\n",
      "[CV]  max_depth=5, n_estimators=32, score=0.9650606091473973, total=  12.6s\n",
      "[CV] max_depth=5, n_estimators=32 ....................................\n",
      "[CV]  max_depth=5, n_estimators=32, score=0.9681515616999488, total=  12.4s\n",
      "[CV] max_depth=5, n_estimators=32 ....................................\n",
      "[CV]  max_depth=5, n_estimators=32, score=0.9645657265044293, total=  12.3s\n",
      "[CV] max_depth=5, n_estimators=64 ....................................\n",
      "[CV]  max_depth=5, n_estimators=64, score=0.9736615072316671, total=  24.0s\n",
      "[CV] max_depth=5, n_estimators=64 ....................................\n",
      "[CV]  max_depth=5, n_estimators=64, score=0.9746316269178187, total=  25.3s\n",
      "[CV] max_depth=5, n_estimators=64 ....................................\n",
      "[CV]  max_depth=5, n_estimators=64, score=0.9714546932141406, total=  24.2s\n",
      "[CV] max_depth=5, n_estimators=64 ....................................\n",
      "[CV]  max_depth=5, n_estimators=64, score=0.9744109450215354, total=  24.2s\n",
      "[CV] max_depth=5, n_estimators=64 ....................................\n",
      "[CV]  max_depth=5, n_estimators=64, score=0.9724984777755226, total=  24.5s\n",
      "[CV] max_depth=5, n_estimators=100 ...................................\n",
      "[CV]  max_depth=5, n_estimators=100, score=0.9758268433296248, total=  39.1s\n",
      "[CV] max_depth=5, n_estimators=100 ...................................\n",
      "[CV]  max_depth=5, n_estimators=100, score=0.9774185400353625, total=  38.4s\n",
      "[CV] max_depth=5, n_estimators=100 ...................................\n",
      "[CV]  max_depth=5, n_estimators=100, score=0.9736415247364152, total=  38.9s\n",
      "[CV] max_depth=5, n_estimators=100 ...................................\n",
      "[CV]  max_depth=5, n_estimators=100, score=0.9762807869316744, total=  39.0s\n",
      "[CV] max_depth=5, n_estimators=100 ...................................\n",
      "[CV]  max_depth=5, n_estimators=100, score=0.9740995548360987, total=  38.3s\n",
      "[CV] max_depth=5, n_estimators=200 ...................................\n",
      "[CV]  max_depth=5, n_estimators=200, score=0.9797562695135461, total= 1.3min\n",
      "[CV] max_depth=5, n_estimators=200 ...................................\n",
      "[CV]  max_depth=5, n_estimators=200, score=0.9800744691556807, total= 1.3min\n",
      "[CV] max_depth=5, n_estimators=200 ...................................\n",
      "[CV]  max_depth=5, n_estimators=200, score=0.9772279727341581, total= 1.3min\n",
      "[CV] max_depth=5, n_estimators=200 ...................................\n",
      "[CV]  max_depth=5, n_estimators=200, score=0.980328861091496, total= 1.3min\n",
      "[CV] max_depth=5, n_estimators=200 ...................................\n",
      "[CV]  max_depth=5, n_estimators=200, score=0.9778807880284173, total= 1.3min\n",
      "[CV] max_depth=10, n_estimators=1 ....................................\n",
      "[CV]  max_depth=10, n_estimators=1, score=0.968496758508914, total=   1.3s\n",
      "[CV] max_depth=10, n_estimators=1 ....................................\n",
      "[CV]  max_depth=10, n_estimators=1, score=0.9679187817258882, total=   1.3s\n",
      "[CV] max_depth=10, n_estimators=1 ....................................\n",
      "[CV]  max_depth=10, n_estimators=1, score=0.9659281894576013, total=   1.3s\n",
      "[CV] max_depth=10, n_estimators=1 ....................................\n",
      "[CV]  max_depth=10, n_estimators=1, score=0.9709210860187769, total=   1.3s\n",
      "[CV] max_depth=10, n_estimators=1 ....................................\n",
      "[CV]  max_depth=10, n_estimators=1, score=0.9656783103168157, total=   1.4s\n",
      "[CV] max_depth=10, n_estimators=2 ....................................\n",
      "[CV]  max_depth=10, n_estimators=2, score=0.9690679896724548, total=   2.1s\n",
      "[CV] max_depth=10, n_estimators=2 ....................................\n",
      "[CV]  max_depth=10, n_estimators=2, score=0.9686372185228486, total=   2.0s\n",
      "[CV] max_depth=10, n_estimators=2 ....................................\n",
      "[CV]  max_depth=10, n_estimators=2, score=0.9687674572139556, total=   2.0s\n",
      "[CV] max_depth=10, n_estimators=2 ....................................\n",
      "[CV]  max_depth=10, n_estimators=2, score=0.9726449916569753, total=   2.0s\n",
      "[CV] max_depth=10, n_estimators=2 ....................................\n",
      "[CV]  max_depth=10, n_estimators=2, score=0.9658154440940075, total=   2.0s\n",
      "[CV] max_depth=10, n_estimators=4 ....................................\n",
      "[CV]  max_depth=10, n_estimators=4, score=0.9713129268909689, total=   3.5s\n",
      "[CV] max_depth=10, n_estimators=4 ....................................\n",
      "[CV]  max_depth=10, n_estimators=4, score=0.9716197040340565, total=   3.6s\n",
      "[CV] max_depth=10, n_estimators=4 ....................................\n",
      "[CV]  max_depth=10, n_estimators=4, score=0.9693245302183849, total=   3.4s\n",
      "[CV] max_depth=10, n_estimators=4 ....................................\n",
      "[CV]  max_depth=10, n_estimators=4, score=0.9727157681599595, total=   3.4s\n",
      "[CV] max_depth=10, n_estimators=4 ....................................\n",
      "[CV]  max_depth=10, n_estimators=4, score=0.9702287366232185, total=   3.4s\n",
      "[CV] max_depth=10, n_estimators=8 ....................................\n",
      "[CV]  max_depth=10, n_estimators=8, score=0.9716599190283401, total=   6.8s\n",
      "[CV] max_depth=10, n_estimators=8 ....................................\n",
      "[CV]  max_depth=10, n_estimators=8, score=0.9738241101716368, total=   6.6s\n",
      "[CV] max_depth=10, n_estimators=8 ....................................\n",
      "[CV]  max_depth=10, n_estimators=8, score=0.9700477205807697, total=   6.4s\n",
      "[CV] max_depth=10, n_estimators=8 ....................................\n",
      "[CV]  max_depth=10, n_estimators=8, score=0.9736162455056464, total=   6.4s\n",
      "[CV] max_depth=10, n_estimators=8 ....................................\n",
      "[CV]  max_depth=10, n_estimators=8, score=0.9712722298221614, total=   6.4s\n",
      "[CV] max_depth=10, n_estimators=16 ...................................\n",
      "[CV]  max_depth=10, n_estimators=16, score=0.9732246798603027, total=  12.0s\n",
      "[CV] max_depth=10, n_estimators=16 ...................................\n",
      "[CV]  max_depth=10, n_estimators=16, score=0.9756146918951736, total=  12.0s\n",
      "[CV] max_depth=10, n_estimators=16 ...................................\n",
      "[CV]  max_depth=10, n_estimators=16, score=0.9713792753476099, total=  12.2s\n",
      "[CV] max_depth=10, n_estimators=16 ...................................\n",
      "[CV]  max_depth=10, n_estimators=16, score=0.9755875202593192, total=  12.2s\n",
      "[CV] max_depth=10, n_estimators=16 ...................................\n",
      "[CV]  max_depth=10, n_estimators=16, score=0.973331309144274, total=  11.9s\n",
      "[CV] max_depth=10, n_estimators=32 ...................................\n",
      "[CV]  max_depth=10, n_estimators=32, score=0.9751882358886249, total=  22.9s\n",
      "[CV] max_depth=10, n_estimators=32 ...................................\n",
      "[CV]  max_depth=10, n_estimators=32, score=0.9772256728778468, total=  22.6s\n",
      "[CV] max_depth=10, n_estimators=32 ...................................\n",
      "[CV]  max_depth=10, n_estimators=32, score=0.97395886108015, total=  23.3s\n",
      "[CV] max_depth=10, n_estimators=32 ...................................\n",
      "[CV]  max_depth=10, n_estimators=32, score=0.9767488879902951, total=  22.7s\n",
      "[CV] max_depth=10, n_estimators=32 ...................................\n",
      "[CV]  max_depth=10, n_estimators=32, score=0.9745998081098823, total=  22.7s\n",
      "[CV] max_depth=10, n_estimators=64 ...................................\n",
      "[CV]  max_depth=10, n_estimators=64, score=0.9775133608954321, total=  43.0s\n",
      "[CV] max_depth=10, n_estimators=64 ...................................\n",
      "[CV]  max_depth=10, n_estimators=64, score=0.9788263762855414, total=  43.3s\n",
      "[CV] max_depth=10, n_estimators=64 ...................................\n",
      "[CV]  max_depth=10, n_estimators=64, score=0.9751907432671416, total=  43.8s\n",
      "[CV] max_depth=10, n_estimators=64 ...................................\n",
      "[CV]  max_depth=10, n_estimators=64, score=0.9782488014130709, total=  43.5s\n",
      "[CV] max_depth=10, n_estimators=64 ...................................\n",
      "[CV]  max_depth=10, n_estimators=64, score=0.976416045152187, total=  43.6s\n",
      "[CV] max_depth=10, n_estimators=100 ..................................\n",
      "[CV]  max_depth=10, n_estimators=100, score=0.9800684517817597, total= 1.2min\n",
      "[CV] max_depth=10, n_estimators=100 ..................................\n",
      "[CV]  max_depth=10, n_estimators=100, score=0.9808340459781679, total= 1.2min\n",
      "[CV] max_depth=10, n_estimators=100 ..................................\n",
      "[CV]  max_depth=10, n_estimators=100, score=0.9774481610413198, total= 1.2min\n",
      "[CV] max_depth=10, n_estimators=100 ..................................\n",
      "[CV]  max_depth=10, n_estimators=100, score=0.979941538151396, total= 1.2min\n",
      "[CV] max_depth=10, n_estimators=100 ..................................\n",
      "[CV]  max_depth=10, n_estimators=100, score=0.9787341008496305, total= 1.2min\n",
      "[CV] max_depth=10, n_estimators=200 ..................................\n",
      "[CV]  max_depth=10, n_estimators=200, score=0.9817597105673083, total= 2.5min\n",
      "[CV] max_depth=10, n_estimators=200 ..................................\n",
      "[CV]  max_depth=10, n_estimators=200, score=0.9835851613874804, total= 2.5min\n",
      "[CV] max_depth=10, n_estimators=200 ..................................\n",
      "[CV]  max_depth=10, n_estimators=200, score=0.9802677942212826, total= 2.5min\n",
      "[CV] max_depth=10, n_estimators=200 ..................................\n",
      "[CV]  max_depth=10, n_estimators=200, score=0.9824420184132414, total= 2.5min\n",
      "[CV] max_depth=10, n_estimators=200 ..................................\n",
      "[CV]  max_depth=10, n_estimators=200, score=0.9821321019875526, total= 2.5min\n",
      "[CV] max_depth=50, n_estimators=1 ....................................\n",
      "[CV]  max_depth=50, n_estimators=1, score=0.9661340568787057, total=   2.3s\n",
      "[CV] max_depth=50, n_estimators=1 ....................................\n",
      "[CV]  max_depth=50, n_estimators=1, score=0.9695388166808852, total=   2.1s\n",
      "[CV] max_depth=50, n_estimators=1 ....................................\n",
      "[CV]  max_depth=50, n_estimators=1, score=0.966750629722922, total=   2.2s\n",
      "[CV] max_depth=50, n_estimators=1 ....................................\n",
      "[CV]  max_depth=50, n_estimators=1, score=0.9692801927517318, total=   2.2s\n",
      "[CV] max_depth=50, n_estimators=1 ....................................\n",
      "[CV]  max_depth=50, n_estimators=1, score=0.9664577588368013, total=   2.3s\n",
      "[CV] max_depth=50, n_estimators=2 ....................................\n",
      "[CV]  max_depth=50, n_estimators=2, score=0.9696817082997583, total=   3.6s\n",
      "[CV] max_depth=50, n_estimators=2 ....................................\n",
      "[CV]  max_depth=50, n_estimators=2, score=0.9736220670250716, total=   3.5s\n",
      "[CV] max_depth=50, n_estimators=2 ....................................\n",
      "[CV]  max_depth=50, n_estimators=2, score=0.9700761972044205, total=   3.9s\n",
      "[CV] max_depth=50, n_estimators=2 ....................................\n",
      "[CV]  max_depth=50, n_estimators=2, score=0.9717587939698492, total=   3.7s\n",
      "[CV] max_depth=50, n_estimators=2 ....................................\n",
      "[CV]  max_depth=50, n_estimators=2, score=0.9699743499471911, total=   3.7s\n",
      "[CV] max_depth=50, n_estimators=4 ....................................\n",
      "[CV]  max_depth=50, n_estimators=4, score=0.9720737977618711, total=   6.6s\n",
      "[CV] max_depth=50, n_estimators=4 ....................................\n",
      "[CV]  max_depth=50, n_estimators=4, score=0.9741448692152916, total=   6.6s\n",
      "[CV] max_depth=50, n_estimators=4 ....................................\n",
      "[CV]  max_depth=50, n_estimators=4, score=0.9719569501288465, total=   6.6s\n",
      "[CV] max_depth=50, n_estimators=4 ....................................\n",
      "[CV]  max_depth=50, n_estimators=4, score=0.9728613866371281, total=   6.6s\n",
      "[CV] max_depth=50, n_estimators=4 ....................................\n",
      "[CV]  max_depth=50, n_estimators=4, score=0.9713364566016826, total=   6.6s\n",
      "[CV] max_depth=50, n_estimators=8 ....................................\n",
      "[CV]  max_depth=50, n_estimators=8, score=0.97281210592686, total=  13.0s\n",
      "[CV] max_depth=50, n_estimators=8 ....................................\n",
      "[CV]  max_depth=50, n_estimators=8, score=0.9751874779807741, total=  12.8s\n",
      "[CV] max_depth=50, n_estimators=8 ....................................\n",
      "[CV]  max_depth=50, n_estimators=8, score=0.9728964401294498, total=  12.9s\n",
      "[CV] max_depth=50, n_estimators=8 ....................................\n",
      "[CV]  max_depth=50, n_estimators=8, score=0.9743408781569793, total=  13.2s\n",
      "[CV] max_depth=50, n_estimators=8 ....................................\n",
      "[CV]  max_depth=50, n_estimators=8, score=0.9728885305381979, total=  12.3s\n",
      "[CV] max_depth=50, n_estimators=16 ...................................\n",
      "[CV]  max_depth=50, n_estimators=16, score=0.9743770806012306, total=  25.1s\n",
      "[CV] max_depth=50, n_estimators=16 ...................................\n",
      "[CV]  max_depth=50, n_estimators=16, score=0.9761233125125932, total=  24.7s\n",
      "[CV] max_depth=50, n_estimators=16 ...................................\n",
      "[CV]  max_depth=50, n_estimators=16, score=0.9735380264619735, total=  25.2s\n",
      "[CV] max_depth=50, n_estimators=16 ...................................\n",
      "[CV]  max_depth=50, n_estimators=16, score=0.9762421185372006, total=  25.4s\n",
      "[CV] max_depth=50, n_estimators=16 ...................................\n",
      "[CV]  max_depth=50, n_estimators=16, score=0.9748212307382415, total=  25.0s\n",
      "[CV] max_depth=50, n_estimators=32 ...................................\n",
      "[CV]  max_depth=50, n_estimators=32, score=0.9757966922146026, total=  47.0s\n",
      "[CV] max_depth=50, n_estimators=32 ...................................\n",
      "[CV]  max_depth=50, n_estimators=32, score=0.978039689735066, total=  46.8s\n",
      "[CV] max_depth=50, n_estimators=32 ...................................\n",
      "[CV]  max_depth=50, n_estimators=32, score=0.9755087612987932, total=  48.6s\n",
      "[CV] max_depth=50, n_estimators=32 ...................................\n",
      "[CV]  max_depth=50, n_estimators=32, score=0.977250945775536, total=  49.9s\n",
      "[CV] max_depth=50, n_estimators=32 ...................................\n",
      "[CV]  max_depth=50, n_estimators=32, score=0.9766950218956058, total=  48.8s\n",
      "[CV] max_depth=50, n_estimators=64 ...................................\n",
      "[CV]  max_depth=50, n_estimators=64, score=0.9780374773322587, total= 1.5min\n",
      "[CV] max_depth=50, n_estimators=64 ...................................\n",
      "[CV]  max_depth=50, n_estimators=64, score=0.9796657942419972, total= 1.5min\n",
      "[CV] max_depth=50, n_estimators=64 ...................................\n",
      "[CV]  max_depth=50, n_estimators=64, score=0.9770822816759211, total= 1.5min\n",
      "[CV] max_depth=50, n_estimators=64 ...................................\n",
      "[CV]  max_depth=50, n_estimators=64, score=0.9782214156079854, total= 1.5min\n",
      "[CV] max_depth=50, n_estimators=64 ...................................\n",
      "[CV]  max_depth=50, n_estimators=64, score=0.9776659959758552, total= 1.5min\n",
      "[CV] max_depth=50, n_estimators=100 ..................................\n",
      "[CV]  max_depth=50, n_estimators=100, score=0.9789526686807654, total= 2.2min\n",
      "[CV] max_depth=50, n_estimators=100 ..................................\n",
      "[CV]  max_depth=50, n_estimators=100, score=0.9804276729559749, total= 2.2min\n",
      "[CV] max_depth=50, n_estimators=100 ..................................\n",
      "[CV]  max_depth=50, n_estimators=100, score=0.9775581219426094, total= 2.2min\n",
      "[CV] max_depth=50, n_estimators=100 ..................................\n",
      "[CV]  max_depth=50, n_estimators=100, score=0.9790280298447268, total= 2.3min\n",
      "[CV] max_depth=50, n_estimators=100 ..................................\n",
      "[CV]  max_depth=50, n_estimators=100, score=0.9785330048765774, total= 2.3min\n",
      "[CV] max_depth=50, n_estimators=200 ..................................\n",
      "[CV]  max_depth=50, n_estimators=200, score=0.9796246918549077, total= 4.1min\n",
      "[CV] max_depth=50, n_estimators=200 ..................................\n",
      "[CV]  max_depth=50, n_estimators=200, score=0.9817597105673083, total= 4.0min\n",
      "[CV] max_depth=50, n_estimators=200 ..................................\n",
      "[CV]  max_depth=50, n_estimators=200, score=0.9790322580645162, total= 4.0min\n",
      "[CV] max_depth=50, n_estimators=200 ..................................\n",
      "[CV]  max_depth=50, n_estimators=200, score=0.9799989923925638, total= 4.1min\n",
      "[CV] max_depth=50, n_estimators=200 ..................................\n",
      "[CV]  max_depth=50, n_estimators=200, score=0.9797599316960474, total= 4.1min\n",
      "[CV] max_depth=100, n_estimators=1 ...................................\n",
      "[CV]  max_depth=100, n_estimators=1, score=0.9661340568787057, total=   2.2s\n",
      "[CV] max_depth=100, n_estimators=1 ...................................\n",
      "[CV]  max_depth=100, n_estimators=1, score=0.9695388166808852, total=   2.1s\n",
      "[CV] max_depth=100, n_estimators=1 ...................................\n",
      "[CV]  max_depth=100, n_estimators=1, score=0.966750629722922, total=   2.2s\n",
      "[CV] max_depth=100, n_estimators=1 ...................................\n",
      "[CV]  max_depth=100, n_estimators=1, score=0.9692801927517318, total=   2.1s\n",
      "[CV] max_depth=100, n_estimators=1 ...................................\n",
      "[CV]  max_depth=100, n_estimators=1, score=0.9664577588368013, total=   2.2s\n",
      "[CV] max_depth=100, n_estimators=2 ...................................\n",
      "[CV]  max_depth=100, n_estimators=2, score=0.9696817082997583, total=   3.5s\n",
      "[CV] max_depth=100, n_estimators=2 ...................................\n",
      "[CV]  max_depth=100, n_estimators=2, score=0.9736220670250716, total=   3.4s\n",
      "[CV] max_depth=100, n_estimators=2 ...................................\n",
      "[CV]  max_depth=100, n_estimators=2, score=0.9700761972044205, total=   3.6s\n",
      "[CV] max_depth=100, n_estimators=2 ...................................\n",
      "[CV]  max_depth=100, n_estimators=2, score=0.9717587939698492, total=   3.4s\n",
      "[CV] max_depth=100, n_estimators=2 ...................................\n",
      "[CV]  max_depth=100, n_estimators=2, score=0.9699743499471911, total=   3.5s\n",
      "[CV] max_depth=100, n_estimators=4 ...................................\n",
      "[CV]  max_depth=100, n_estimators=4, score=0.9720737977618711, total=   6.5s\n",
      "[CV] max_depth=100, n_estimators=4 ...................................\n",
      "[CV]  max_depth=100, n_estimators=4, score=0.9741448692152916, total=   6.4s\n",
      "[CV] max_depth=100, n_estimators=4 ...................................\n",
      "[CV]  max_depth=100, n_estimators=4, score=0.9719569501288465, total=   6.5s\n",
      "[CV] max_depth=100, n_estimators=4 ...................................\n",
      "[CV]  max_depth=100, n_estimators=4, score=0.9728613866371281, total=   6.6s\n",
      "[CV] max_depth=100, n_estimators=4 ...................................\n",
      "[CV]  max_depth=100, n_estimators=4, score=0.9713364566016826, total=   6.4s\n",
      "[CV] max_depth=100, n_estimators=8 ...................................\n",
      "[CV]  max_depth=100, n_estimators=8, score=0.97281210592686, total=  12.7s\n",
      "[CV] max_depth=100, n_estimators=8 ...................................\n",
      "[CV]  max_depth=100, n_estimators=8, score=0.9751874779807741, total=  12.8s\n",
      "[CV] max_depth=100, n_estimators=8 ...................................\n",
      "[CV]  max_depth=100, n_estimators=8, score=0.9728964401294498, total=  13.4s\n",
      "[CV] max_depth=100, n_estimators=8 ...................................\n",
      "[CV]  max_depth=100, n_estimators=8, score=0.9743408781569793, total=  14.5s\n",
      "[CV] max_depth=100, n_estimators=8 ...................................\n",
      "[CV]  max_depth=100, n_estimators=8, score=0.9728885305381979, total=  12.7s\n",
      "[CV] max_depth=100, n_estimators=16 ..................................\n",
      "[CV]  max_depth=100, n_estimators=16, score=0.9743770806012306, total=  25.0s\n",
      "[CV] max_depth=100, n_estimators=16 ..................................\n",
      "[CV]  max_depth=100, n_estimators=16, score=0.9761233125125932, total=  25.5s\n",
      "[CV] max_depth=100, n_estimators=16 ..................................\n",
      "[CV]  max_depth=100, n_estimators=16, score=0.9735380264619735, total=  24.9s\n",
      "[CV] max_depth=100, n_estimators=16 ..................................\n",
      "[CV]  max_depth=100, n_estimators=16, score=0.9762421185372006, total=  28.6s\n",
      "[CV] max_depth=100, n_estimators=16 ..................................\n",
      "[CV]  max_depth=100, n_estimators=16, score=0.9748212307382415, total=  24.7s\n",
      "[CV] max_depth=100, n_estimators=32 ..................................\n",
      "[CV]  max_depth=100, n_estimators=32, score=0.9757966922146026, total=  46.4s\n",
      "[CV] max_depth=100, n_estimators=32 ..................................\n",
      "[CV]  max_depth=100, n_estimators=32, score=0.978039689735066, total=  48.8s\n",
      "[CV] max_depth=100, n_estimators=32 ..................................\n",
      "[CV]  max_depth=100, n_estimators=32, score=0.9755087612987932, total=  49.5s\n",
      "[CV] max_depth=100, n_estimators=32 ..................................\n",
      "[CV]  max_depth=100, n_estimators=32, score=0.977250945775536, total=  55.2s\n",
      "[CV] max_depth=100, n_estimators=32 ..................................\n",
      "[CV]  max_depth=100, n_estimators=32, score=0.9766950218956058, total=  47.5s\n",
      "[CV] max_depth=100, n_estimators=64 ..................................\n",
      "[CV]  max_depth=100, n_estimators=64, score=0.9780374773322587, total= 1.5min\n",
      "[CV] max_depth=100, n_estimators=64 ..................................\n",
      "[CV]  max_depth=100, n_estimators=64, score=0.9796657942419972, total= 1.5min\n",
      "[CV] max_depth=100, n_estimators=64 ..................................\n",
      "[CV]  max_depth=100, n_estimators=64, score=0.9770822816759211, total= 1.5min\n",
      "[CV] max_depth=100, n_estimators=64 ..................................\n",
      "[CV]  max_depth=100, n_estimators=64, score=0.9782214156079854, total= 1.6min\n",
      "[CV] max_depth=100, n_estimators=64 ..................................\n",
      "[CV]  max_depth=100, n_estimators=64, score=0.9776659959758552, total= 1.5min\n",
      "[CV] max_depth=100, n_estimators=100 .................................\n",
      "[CV]  max_depth=100, n_estimators=100, score=0.9789526686807654, total= 2.3min\n",
      "[CV] max_depth=100, n_estimators=100 .................................\n",
      "[CV]  max_depth=100, n_estimators=100, score=0.9804276729559749, total= 2.2min\n",
      "[CV] max_depth=100, n_estimators=100 .................................\n",
      "[CV]  max_depth=100, n_estimators=100, score=0.9775581219426094, total= 2.3min\n",
      "[CV] max_depth=100, n_estimators=100 .................................\n",
      "[CV]  max_depth=100, n_estimators=100, score=0.9790280298447268, total= 2.5min\n",
      "[CV] max_depth=100, n_estimators=100 .................................\n",
      "[CV]  max_depth=100, n_estimators=100, score=0.9785330048765774, total= 2.3min\n",
      "[CV] max_depth=100, n_estimators=200 .................................\n",
      "[CV]  max_depth=100, n_estimators=200, score=0.9796246918549077, total= 4.0min\n",
      "[CV] max_depth=100, n_estimators=200 .................................\n",
      "[CV]  max_depth=100, n_estimators=200, score=0.9817597105673083, total= 4.0min\n",
      "[CV] max_depth=100, n_estimators=200 .................................\n",
      "[CV]  max_depth=100, n_estimators=200, score=0.9790322580645162, total= 4.0min\n",
      "[CV] max_depth=100, n_estimators=200 .................................\n",
      "[CV]  max_depth=100, n_estimators=200, score=0.9799989923925638, total= 4.3min\n",
      "[CV] max_depth=100, n_estimators=200 .................................\n",
      "[CV]  max_depth=100, n_estimators=200, score=0.9797599316960474, total= 3.9min\n",
      "[CV] max_depth=500, n_estimators=1 ...................................\n",
      "[CV]  max_depth=500, n_estimators=1, score=0.9661340568787057, total=   2.3s\n",
      "[CV] max_depth=500, n_estimators=1 ...................................\n",
      "[CV]  max_depth=500, n_estimators=1, score=0.9695388166808852, total=   2.0s\n",
      "[CV] max_depth=500, n_estimators=1 ...................................\n",
      "[CV]  max_depth=500, n_estimators=1, score=0.966750629722922, total=   2.1s\n",
      "[CV] max_depth=500, n_estimators=1 ...................................\n",
      "[CV]  max_depth=500, n_estimators=1, score=0.9692801927517318, total=   2.1s\n",
      "[CV] max_depth=500, n_estimators=1 ...................................\n",
      "[CV]  max_depth=500, n_estimators=1, score=0.9664577588368013, total=   2.2s\n",
      "[CV] max_depth=500, n_estimators=2 ...................................\n",
      "[CV]  max_depth=500, n_estimators=2, score=0.9696817082997583, total=   3.7s\n",
      "[CV] max_depth=500, n_estimators=2 ...................................\n",
      "[CV]  max_depth=500, n_estimators=2, score=0.9736220670250716, total=   3.5s\n",
      "[CV] max_depth=500, n_estimators=2 ...................................\n",
      "[CV]  max_depth=500, n_estimators=2, score=0.9700761972044205, total=   3.8s\n",
      "[CV] max_depth=500, n_estimators=2 ...................................\n",
      "[CV]  max_depth=500, n_estimators=2, score=0.9717587939698492, total=   3.6s\n",
      "[CV] max_depth=500, n_estimators=2 ...................................\n",
      "[CV]  max_depth=500, n_estimators=2, score=0.9699743499471911, total=   3.7s\n",
      "[CV] max_depth=500, n_estimators=4 ...................................\n",
      "[CV]  max_depth=500, n_estimators=4, score=0.9720737977618711, total=   6.6s\n",
      "[CV] max_depth=500, n_estimators=4 ...................................\n",
      "[CV]  max_depth=500, n_estimators=4, score=0.9741448692152916, total=   6.4s\n",
      "[CV] max_depth=500, n_estimators=4 ...................................\n",
      "[CV]  max_depth=500, n_estimators=4, score=0.9719569501288465, total=   6.5s\n",
      "[CV] max_depth=500, n_estimators=4 ...................................\n",
      "[CV]  max_depth=500, n_estimators=4, score=0.9728613866371281, total=   6.8s\n",
      "[CV] max_depth=500, n_estimators=4 ...................................\n",
      "[CV]  max_depth=500, n_estimators=4, score=0.9713364566016826, total=   6.5s\n",
      "[CV] max_depth=500, n_estimators=8 ...................................\n",
      "[CV]  max_depth=500, n_estimators=8, score=0.97281210592686, total=  12.7s\n",
      "[CV] max_depth=500, n_estimators=8 ...................................\n",
      "[CV]  max_depth=500, n_estimators=8, score=0.9751874779807741, total=  12.9s\n",
      "[CV] max_depth=500, n_estimators=8 ...................................\n",
      "[CV]  max_depth=500, n_estimators=8, score=0.9728964401294498, total=  12.7s\n",
      "[CV] max_depth=500, n_estimators=8 ...................................\n",
      "[CV]  max_depth=500, n_estimators=8, score=0.9743408781569793, total=  21.3s\n",
      "[CV] max_depth=500, n_estimators=8 ...................................\n",
      "[CV]  max_depth=500, n_estimators=8, score=0.9728885305381979, total=  12.2s\n",
      "[CV] max_depth=500, n_estimators=16 ..................................\n",
      "[CV]  max_depth=500, n_estimators=16, score=0.9743770806012306, total=  24.7s\n",
      "[CV] max_depth=500, n_estimators=16 ..................................\n",
      "[CV]  max_depth=500, n_estimators=16, score=0.9761233125125932, total=  24.1s\n",
      "[CV] max_depth=500, n_estimators=16 ..................................\n",
      "[CV]  max_depth=500, n_estimators=16, score=0.9735380264619735, total=  24.5s\n",
      "[CV] max_depth=500, n_estimators=16 ..................................\n",
      "[CV]  max_depth=500, n_estimators=16, score=0.9762421185372006, total=  43.6s\n",
      "[CV] max_depth=500, n_estimators=16 ..................................\n",
      "[CV]  max_depth=500, n_estimators=16, score=0.9748212307382415, total=  24.7s\n",
      "[CV] max_depth=500, n_estimators=32 ..................................\n",
      "[CV]  max_depth=500, n_estimators=32, score=0.9757966922146026, total=  47.1s\n",
      "[CV] max_depth=500, n_estimators=32 ..................................\n",
      "[CV]  max_depth=500, n_estimators=32, score=0.978039689735066, total=  48.0s\n",
      "[CV] max_depth=500, n_estimators=32 ..................................\n",
      "[CV]  max_depth=500, n_estimators=32, score=0.9755087612987932, total=  48.7s\n",
      "[CV] max_depth=500, n_estimators=32 ..................................\n",
      "[CV]  max_depth=500, n_estimators=32, score=0.977250945775536, total= 1.6min\n",
      "[CV] max_depth=500, n_estimators=32 ..................................\n",
      "[CV]  max_depth=500, n_estimators=32, score=0.9766950218956058, total=  47.6s\n",
      "[CV] max_depth=500, n_estimators=64 ..................................\n",
      "[CV]  max_depth=500, n_estimators=64, score=0.9780374773322587, total= 1.5min\n",
      "[CV] max_depth=500, n_estimators=64 ..................................\n",
      "[CV]  max_depth=500, n_estimators=64, score=0.9796657942419972, total= 1.5min\n",
      "[CV] max_depth=500, n_estimators=64 ..................................\n",
      "[CV]  max_depth=500, n_estimators=64, score=0.9770822816759211, total= 1.5min\n",
      "[CV] max_depth=500, n_estimators=64 ..................................\n",
      "[CV]  max_depth=500, n_estimators=64, score=0.9782214156079854, total= 2.6min\n",
      "[CV] max_depth=500, n_estimators=64 ..................................\n",
      "[CV]  max_depth=500, n_estimators=64, score=0.9776659959758552, total= 1.5min\n",
      "[CV] max_depth=500, n_estimators=100 .................................\n",
      "[CV]  max_depth=500, n_estimators=100, score=0.9789526686807654, total= 2.2min\n",
      "[CV] max_depth=500, n_estimators=100 .................................\n",
      "[CV]  max_depth=500, n_estimators=100, score=0.9804276729559749, total= 2.2min\n",
      "[CV] max_depth=500, n_estimators=100 .................................\n",
      "[CV]  max_depth=500, n_estimators=100, score=0.9775581219426094, total= 2.2min\n",
      "[CV] max_depth=500, n_estimators=100 .................................\n",
      "[CV]  max_depth=500, n_estimators=100, score=0.9790280298447268, total= 3.5min\n",
      "[CV] max_depth=500, n_estimators=100 .................................\n",
      "[CV]  max_depth=500, n_estimators=100, score=0.9785330048765774, total= 2.3min\n",
      "[CV] max_depth=500, n_estimators=200 .................................\n",
      "[CV]  max_depth=500, n_estimators=200, score=0.9796246918549077, total= 4.1min\n",
      "[CV] max_depth=500, n_estimators=200 .................................\n",
      "[CV]  max_depth=500, n_estimators=200, score=0.9817597105673083, total= 4.0min\n",
      "[CV] max_depth=500, n_estimators=200 .................................\n",
      "[CV]  max_depth=500, n_estimators=200, score=0.9790322580645162, total= 4.1min\n",
      "[CV] max_depth=500, n_estimators=200 .................................\n",
      "[CV]  max_depth=500, n_estimators=200, score=0.9799989923925638, total= 5.3min\n",
      "[CV] max_depth=500, n_estimators=200 .................................\n",
      "[CV]  max_depth=500, n_estimators=200, score=0.9797599316960474, total= 4.1min\n",
      "[CV] max_depth=1000, n_estimators=1 ..................................\n",
      "[CV]  max_depth=1000, n_estimators=1, score=0.9661340568787057, total=   2.3s\n",
      "[CV] max_depth=1000, n_estimators=1 ..................................\n",
      "[CV]  max_depth=1000, n_estimators=1, score=0.9695388166808852, total=   2.2s\n",
      "[CV] max_depth=1000, n_estimators=1 ..................................\n",
      "[CV]  max_depth=1000, n_estimators=1, score=0.966750629722922, total=   2.2s\n",
      "[CV] max_depth=1000, n_estimators=1 ..................................\n",
      "[CV]  max_depth=1000, n_estimators=1, score=0.9692801927517318, total=   2.1s\n",
      "[CV] max_depth=1000, n_estimators=1 ..................................\n",
      "[CV]  max_depth=1000, n_estimators=1, score=0.9664577588368013, total=   2.2s\n",
      "[CV] max_depth=1000, n_estimators=2 ..................................\n",
      "[CV]  max_depth=1000, n_estimators=2, score=0.9696817082997583, total=   3.7s\n",
      "[CV] max_depth=1000, n_estimators=2 ..................................\n",
      "[CV]  max_depth=1000, n_estimators=2, score=0.9736220670250716, total=   3.5s\n",
      "[CV] max_depth=1000, n_estimators=2 ..................................\n",
      "[CV]  max_depth=1000, n_estimators=2, score=0.9700761972044205, total=   3.7s\n",
      "[CV] max_depth=1000, n_estimators=2 ..................................\n",
      "[CV]  max_depth=1000, n_estimators=2, score=0.9717587939698492, total=   3.6s\n",
      "[CV] max_depth=1000, n_estimators=2 ..................................\n",
      "[CV]  max_depth=1000, n_estimators=2, score=0.9699743499471911, total=   3.6s\n",
      "[CV] max_depth=1000, n_estimators=4 ..................................\n",
      "[CV]  max_depth=1000, n_estimators=4, score=0.9720737977618711, total=   6.6s\n",
      "[CV] max_depth=1000, n_estimators=4 ..................................\n",
      "[CV]  max_depth=1000, n_estimators=4, score=0.9741448692152916, total=   6.6s\n",
      "[CV] max_depth=1000, n_estimators=4 ..................................\n",
      "[CV]  max_depth=1000, n_estimators=4, score=0.9719569501288465, total=   6.5s\n",
      "[CV] max_depth=1000, n_estimators=4 ..................................\n",
      "[CV]  max_depth=1000, n_estimators=4, score=0.9728613866371281, total=   6.6s\n",
      "[CV] max_depth=1000, n_estimators=4 ..................................\n",
      "[CV]  max_depth=1000, n_estimators=4, score=0.9713364566016826, total=   6.3s\n",
      "[CV] max_depth=1000, n_estimators=8 ..................................\n",
      "[CV]  max_depth=1000, n_estimators=8, score=0.97281210592686, total=  12.8s\n",
      "[CV] max_depth=1000, n_estimators=8 ..................................\n",
      "[CV]  max_depth=1000, n_estimators=8, score=0.9751874779807741, total=  12.8s\n",
      "[CV] max_depth=1000, n_estimators=8 ..................................\n",
      "[CV]  max_depth=1000, n_estimators=8, score=0.9728964401294498, total=  13.2s\n",
      "[CV] max_depth=1000, n_estimators=8 ..................................\n",
      "[CV]  max_depth=1000, n_estimators=8, score=0.9743408781569793, total=  32.7s\n",
      "[CV] max_depth=1000, n_estimators=8 ..................................\n",
      "[CV]  max_depth=1000, n_estimators=8, score=0.9728885305381979, total=  12.4s\n",
      "[CV] max_depth=1000, n_estimators=16 .................................\n",
      "[CV]  max_depth=1000, n_estimators=16, score=0.9743770806012306, total=  24.5s\n",
      "[CV] max_depth=1000, n_estimators=16 .................................\n",
      "[CV]  max_depth=1000, n_estimators=16, score=0.9761233125125932, total=  24.8s\n",
      "[CV] max_depth=1000, n_estimators=16 .................................\n",
      "[CV]  max_depth=1000, n_estimators=16, score=0.9735380264619735, total=  25.0s\n",
      "[CV] max_depth=1000, n_estimators=16 .................................\n",
      "[CV]  max_depth=1000, n_estimators=16, score=0.9762421185372006, total= 1.1min\n",
      "[CV] max_depth=1000, n_estimators=16 .................................\n",
      "[CV]  max_depth=1000, n_estimators=16, score=0.9748212307382415, total=  24.8s\n",
      "[CV] max_depth=1000, n_estimators=32 .................................\n",
      "[CV]  max_depth=1000, n_estimators=32, score=0.9757966922146026, total=  47.7s\n",
      "[CV] max_depth=1000, n_estimators=32 .................................\n",
      "[CV]  max_depth=1000, n_estimators=32, score=0.978039689735066, total=  47.7s\n",
      "[CV] max_depth=1000, n_estimators=32 .................................\n",
      "[CV]  max_depth=1000, n_estimators=32, score=0.9755087612987932, total=  48.5s\n",
      "[CV] max_depth=1000, n_estimators=32 .................................\n",
      "[CV]  max_depth=1000, n_estimators=32, score=0.977250945775536, total= 2.5min\n",
      "[CV] max_depth=1000, n_estimators=32 .................................\n",
      "[CV]  max_depth=1000, n_estimators=32, score=0.9766950218956058, total=  47.7s\n",
      "[CV] max_depth=1000, n_estimators=64 .................................\n",
      "[CV]  max_depth=1000, n_estimators=64, score=0.9780374773322587, total= 1.5min\n",
      "[CV] max_depth=1000, n_estimators=64 .................................\n",
      "[CV]  max_depth=1000, n_estimators=64, score=0.9796657942419972, total= 1.5min\n",
      "[CV] max_depth=1000, n_estimators=64 .................................\n",
      "[CV]  max_depth=1000, n_estimators=64, score=0.9770822816759211, total= 1.5min\n",
      "[CV] max_depth=1000, n_estimators=64 .................................\n",
      "[CV]  max_depth=1000, n_estimators=64, score=0.9782214156079854, total= 3.9min\n",
      "[CV] max_depth=1000, n_estimators=64 .................................\n",
      "[CV]  max_depth=1000, n_estimators=64, score=0.9776659959758552, total= 1.5min\n",
      "[CV] max_depth=1000, n_estimators=100 ................................\n",
      "[CV]  max_depth=1000, n_estimators=100, score=0.9789526686807654, total= 2.3min\n",
      "[CV] max_depth=1000, n_estimators=100 ................................\n",
      "[CV]  max_depth=1000, n_estimators=100, score=0.9804276729559749, total= 2.3min\n",
      "[CV] max_depth=1000, n_estimators=100 ................................\n",
      "[CV]  max_depth=1000, n_estimators=100, score=0.9775581219426094, total= 2.2min\n",
      "[CV] max_depth=1000, n_estimators=100 ................................\n",
      "[CV]  max_depth=1000, n_estimators=100, score=0.9790280298447268, total= 4.8min\n",
      "[CV] max_depth=1000, n_estimators=100 ................................\n",
      "[CV]  max_depth=1000, n_estimators=100, score=0.9785330048765774, total= 2.3min\n",
      "[CV] max_depth=1000, n_estimators=200 ................................\n",
      "[CV]  max_depth=1000, n_estimators=200, score=0.9796246918549077, total= 4.1min\n",
      "[CV] max_depth=1000, n_estimators=200 ................................\n",
      "[CV]  max_depth=1000, n_estimators=200, score=0.9817597105673083, total= 4.0min\n",
      "[CV] max_depth=1000, n_estimators=200 ................................\n",
      "[CV]  max_depth=1000, n_estimators=200, score=0.9790322580645162, total= 4.0min\n",
      "[CV] max_depth=1000, n_estimators=200 ................................\n",
      "[CV]  max_depth=1000, n_estimators=200, score=0.9799989923925638, total= 6.5min\n",
      "[CV] max_depth=1000, n_estimators=200 ................................\n",
      "[CV]  max_depth=1000, n_estimators=200, score=0.9797599316960474, total= 4.0min\n"
     ]
    },
    {
     "name": "stderr",
     "output_type": "stream",
     "text": [
      "[Parallel(n_jobs=1)]: Done 315 out of 315 | elapsed: 250.1min finished\n"
     ]
    },
    {
     "name": "stdout",
     "output_type": "stream",
     "text": [
      "Best Hyperparameter: XGBClassifier(base_score=0.5, booster='gbtree', colsample_bylevel=1,\n",
      "       colsample_bytree=1, gamma=0, learning_rate=0.1, max_delta_step=0,\n",
      "       max_depth=10, min_child_weight=1, missing=None, n_estimators=200,\n",
      "       n_jobs=-1, nthread=None, objective='binary:logistic',\n",
      "       random_state=25, reg_alpha=0, reg_lambda=1, scale_pos_weight=1,\n",
      "       seed=None, silent=True, subsample=1)\n"
     ]
    }
   ],
   "source": [
    "from xgboost import XGBClassifier\n",
    "from sklearn.metrics import f1_score\n",
    "from sklearn.model_selection import GridSearchCV\n",
    "\n",
    "# Model Training\n",
    "clf = XGBClassifier(random_state=25,n_jobs=-1)\n",
    "parameters = {\"max_depth\":[1, 5, 10, 50, 100, 500, 1000],\n",
    "              \"n_estimators\": [1, 2, 4, 8, 16, 32, 64, 100, 200]} \n",
    "\n",
    "model = GridSearchCV(clf, parameters, cv=5,verbose=10, scoring='f1')\n",
    "model.fit(df_final_train, y_train)\n",
    "bestParameter = model.best_estimator_\n",
    "print(\"Best Hyperparameter: \"+ str(bestParameter))"
   ]
  },
  {
   "cell_type": "code",
   "execution_count": 44,
   "metadata": {},
   "outputs": [],
   "source": [
    "saveModel(\"XGBoostFBLinkPred.pkl\",model)"
   ]
  },
  {
   "cell_type": "markdown",
   "metadata": {},
   "source": [
    "Heatmap of <b>max_depth</b> and <b>n_estimators</b> parameters to find the areas where the maximum F1 score is achieved in the train & test set."
   ]
  },
  {
   "cell_type": "code",
   "execution_count": 45,
   "metadata": {},
   "outputs": [
    {
     "data": {
      "image/png": "[encoded data removed]",
      "text/plain": [
       "<Figure size 1800x432 with 4 Axes>"
      ]
     },
     "metadata": {
      "needs_background": "light"
     },
     "output_type": "display_data"
    }
   ],
   "source": [
    "# https://stackoverflow.com/questions/48272437/combining-two-heat-maps-in-seaborn?rq=1\n",
    "\n",
    "# Train vs CV auc score\n",
    "df_gridsearch = pd.DataFrame(model.cv_results_)\n",
    "max_scores = df_gridsearch.groupby(['param_max_depth', 'param_n_estimators']).max()\n",
    "max_scores = max_scores.unstack()[['mean_test_score', 'mean_train_score']]\n",
    "\n",
    "fig, (ax,ax2) = plt.subplots(ncols=2, figsize=(25,6))\n",
    "fig.subplots_adjust(wspace=0.2)\n",
    "sns.heatmap(max_scores.mean_train_score,annot=True, fmt='.4g', cmap=\"rocket\",ax=ax, cbar=False)\n",
    "fig.colorbar(ax.collections[0], ax=ax,location=\"left\", use_gridspec=False, pad=0.2)\n",
    "sns.heatmap(max_scores.mean_test_score,annot=True, fmt='.4g', cmap=\"icefire\",ax=ax2, cbar=False)\n",
    "fig.colorbar(ax2.collections[0], ax=ax2,location=\"right\", use_gridspec=False,pad=0.2)\n",
    "ax2.yaxis.tick_right()\n",
    "ax2.tick_params(rotation=0)\n",
    "ax.title.set_text('Train F1 Score')\n",
    "ax2.title.set_text('CV F1 Score')\n",
    "plt.show()"
   ]
  },
  {
   "cell_type": "code",
   "execution_count": 47,
   "metadata": {},
   "outputs": [],
   "source": [
    "# Testing accuracy on test dataset\n",
    "clf = XGBClassifier( max_depth = bestParameter.max_depth, n_estimators = bestParameter.n_estimators)\n",
    "clf.fit(df_final_train, y_train)\n",
    "\n",
    "y_train_pred = clf.predict(df_final_train)\n",
    "y_test_pred = clf.predict(df_final_test)"
   ]
  },
  {
   "cell_type": "code",
   "execution_count": 48,
   "metadata": {},
   "outputs": [
    {
     "name": "stdout",
     "output_type": "stream",
     "text": [
      "Train f1 score 0.9996302329532394\n",
      "Test f1 score 0.9264593423400459\n"
     ]
    }
   ],
   "source": [
    "print('Train f1 score',f1_score(y_train,y_train_pred))\n",
    "print('Test f1 score',f1_score(y_test,y_test_pred))"
   ]
  },
  {
   "cell_type": "code",
   "execution_count": 49,
   "metadata": {},
   "outputs": [
    {
     "data": {
      "image/png": "[encoded data removed]",
      "text/plain": [
       "<Figure size 432x288 with 1 Axes>"
      ]
     },
     "metadata": {
      "needs_background": "light"
     },
     "output_type": "display_data"
    }
   ],
   "source": [
    "from sklearn.metrics import roc_curve, auc\n",
    "fpr,tpr,ths = roc_curve(y_test,y_test_pred)\n",
    "auc_sc = auc(fpr, tpr)\n",
    "plt.plot(fpr, tpr, color='navy',label='ROC curve (area = %0.2f)' % auc_sc)\n",
    "plt.xlabel('False Positive Rate')\n",
    "plt.ylabel('True Positive Rate')\n",
    "plt.title('Receiver operating characteristic with test data')\n",
    "plt.legend()\n",
    "plt.show()"
   ]
  },
  {
   "cell_type": "code",
   "execution_count": 50,
   "metadata": {},
   "outputs": [],
   "source": [
    "from sklearn.metrics import confusion_matrix\n",
    "def plot_confusion_matrix(test_y, predict_y):\n",
    "    C = confusion_matrix(test_y, predict_y)\n",
    "    \n",
    "    A =(((C.T)/(C.sum(axis=1))).T)\n",
    "    \n",
    "    B =(C/C.sum(axis=0))\n",
    "    plt.figure(figsize=(20,4))\n",
    "    \n",
    "    labels = [0,1]\n",
    "    # representing A in heatmap format\n",
    "    cmap=sns.light_palette(\"blue\")\n",
    "    plt.subplot(1, 3, 1)\n",
    "    sns.heatmap(C, annot=True, cmap=cmap, fmt=\".3f\", xticklabels=labels, yticklabels=labels)\n",
    "    plt.xlabel('Predicted Class')\n",
    "    plt.ylabel('Original Class')\n",
    "    plt.title(\"Confusion matrix\")\n",
    "    \n",
    "    plt.subplot(1, 3, 2)\n",
    "    sns.heatmap(B, annot=True, cmap=cmap, fmt=\".3f\", xticklabels=labels, yticklabels=labels)\n",
    "    plt.xlabel('Predicted Class')\n",
    "    plt.ylabel('Original Class')\n",
    "    plt.title(\"Precision matrix\")\n",
    "    \n",
    "    plt.subplot(1, 3, 3)\n",
    "    # representing B in heatmap format\n",
    "    sns.heatmap(A, annot=True, cmap=cmap, fmt=\".3f\", xticklabels=labels, yticklabels=labels)\n",
    "    plt.xlabel('Predicted Class')\n",
    "    plt.ylabel('Original Class')\n",
    "    plt.title(\"Recall matrix\")\n",
    "    \n",
    "    plt.show()"
   ]
  },
  {
   "cell_type": "code",
   "execution_count": 51,
   "metadata": {},
   "outputs": [
    {
     "name": "stdout",
     "output_type": "stream",
     "text": [
      "Train confusion_matrix\n"
     ]
    },
    {
     "data": {
      "image/png": "[encoded data removed]",
      "text/plain": [
       "<Figure size 1440x288 with 6 Axes>"
      ]
     },
     "metadata": {
      "needs_background": "light"
     },
     "output_type": "display_data"
    },
    {
     "name": "stdout",
     "output_type": "stream",
     "text": [
      "Test confusion_matrix\n"
     ]
    },
    {
     "data": {
      "image/png": "[encoded data removed]",
      "text/plain": [
       "<Figure size 1440x288 with 6 Axes>"
      ]
     },
     "metadata": {
      "needs_background": "light"
     },
     "output_type": "display_data"
    }
   ],
   "source": [
    "print('Train confusion_matrix')\n",
    "plot_confusion_matrix(y_train,y_train_pred)\n",
    "print('Test confusion_matrix')\n",
    "plot_confusion_matrix(y_test,y_test_pred)"
   ]
  },
  {
   "cell_type": "markdown",
   "metadata": {},
   "source": [
    "#### Feature Importance"
   ]
  },
  {
   "cell_type": "code",
   "execution_count": 52,
   "metadata": {},
   "outputs": [
    {
     "data": {
      "image/png": "[encoded data removed]",
      "text/plain": [
       "<Figure size 720x864 with 1 Axes>"
      ]
     },
     "metadata": {
      "needs_background": "light"
     },
     "output_type": "display_data"
    }
   ],
   "source": [
    "features = df_final_train.columns\n",
    "importances = clf.feature_importances_\n",
    "indices = (np.argsort(importances))[-25:]\n",
    "plt.figure(figsize=(10,12))\n",
    "plt.title('Feature Importances')\n",
    "plt.barh(range(len(indices)), importances[indices], color='r', align='center')\n",
    "plt.yticks(range(len(indices)), [features[i] for i in indices])\n",
    "plt.xlabel('Relative Importance')\n",
    "plt.show()"
   ]
  },
  {
   "cell_type": "markdown",
   "metadata": {},
   "source": [
    "## Conclusion"
   ]
  },
  {
   "cell_type": "markdown",
   "metadata": {},
   "source": [
    "* Oberservation(s):\n",
    "    - The model failed to hold the F1 score observed during training. Considerable difference we see in test and train f1         score, hence model is overfitting.\n",
    "    - precision for class 0 is less than class 1. Where as Recall for class 0 better than class 1.\n",
    "    - svd_dot feature has higher preference than Preferential_attachment during classification.\n",
    "    - Katz_s and other SVD features remains the least useful features. "
   ]
  },
  {
   "cell_type": "code",
   "execution_count": 7,
   "metadata": {},
   "outputs": [
    {
     "name": "stdout",
     "output_type": "stream",
     "text": [
      "+---------+-----------------------------------------+----------------------+\n",
      "|  Model  | Hyperparameter: max_depth, n_estimators |          F1          |\n",
      "+---------+-----------------------------------------+----------------------+\n",
      "| XGBoost |                 10, 200                 | Train f1 score 0.998 |\n",
      "|         |                                         | Test f1 score 0.926  |\n",
      "+---------+-----------------------------------------+----------------------+\n"
     ]
    }
   ],
   "source": [
    "from prettytable import PrettyTable\n",
    "    \n",
    "x = PrettyTable()\n",
    "x.field_names = [\"Model\", \"Hyperparameter: max_depth, n_estimators\", \"F1\"]\n",
    "x.add_row([\"XGBoost\",\"10, 200\", \"Train f1 score 0.998\\nTest f1 score 0.926\" ])\n",
    "print(x)"
   ]
  },
  {
   "cell_type": "code",
   "execution_count": null,
   "metadata": {},
   "outputs": [],
   "source": []
  }
 ],
 "metadata": {
  "kernelspec": {
   "display_name": "Python 3",
   "language": "python",
   "name": "python3"
  },
  "language_info": {
   "codemirror_mode": {
    "name": "ipython",
    "version": 3
   },
   "file_extension": ".py",
   "mimetype": "text/x-python",
   "name": "python",
   "nbconvert_exporter": "python",
   "pygments_lexer": "ipython3",
   "version": "3.7.5"
  }
 },
 "nbformat": 4,
 "nbformat_minor": 2
}
